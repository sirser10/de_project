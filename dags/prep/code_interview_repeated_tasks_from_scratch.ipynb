{
 "cells": [
  {
   "cell_type": "code",
   "execution_count": 1,
   "id": "8798e46a",
   "metadata": {},
   "outputs": [],
   "source": [
    "from typing import List"
   ]
  },
  {
   "cell_type": "code",
   "execution_count": null,
   "id": "29115128",
   "metadata": {},
   "outputs": [
    {
     "name": "stdout",
     "output_type": "stream",
     "text": [
      "\n"
     ]
    }
   ],
   "source": [
    "class Solution:\n",
    "    def longestCommonPrefix(self, strings: list[str]) -> str:\n",
    "        \n",
    "        prefix: str = strings[0]\n",
    "\n",
    "        for l in strings[1:]:\n",
    "            while not l.startswith(prefix):\n",
    "                prefix = prefix[:-1]\n",
    "                if not prefix:\n",
    "                    return \"\"\n",
    "                \n",
    "        return prefix\n",
    "\n",
    "\n",
    "\n",
    "\n",
    "\n",
    "\n",
    "\n",
    "        \n",
    "\n",
    "\n",
    "\n",
    "\n",
    "\n",
    "strs = [\"dog\",\"racecar\",\"car\"]\n",
    "strs = [\"flower\",\"flow\",\"flight\"]\n",
    "c=Solution()\n",
    "print(c.longestCommonPrefix(strs))"
   ]
  }
 ],
 "metadata": {
  "kernelspec": {
   "display_name": "Python 3",
   "language": "python",
   "name": "python3"
  },
  "language_info": {
   "codemirror_mode": {
    "name": "ipython",
    "version": 3
   },
   "file_extension": ".py",
   "mimetype": "text/x-python",
   "name": "python",
   "nbconvert_exporter": "python",
   "pygments_lexer": "ipython3",
   "version": "3.9.6"
  }
 },
 "nbformat": 4,
 "nbformat_minor": 5
}
