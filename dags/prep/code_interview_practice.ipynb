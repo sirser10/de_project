{
 "cells": [
  {
   "cell_type": "markdown",
   "id": "e39909f2",
   "metadata": {},
   "source": [
    "### ARRAYS"
   ]
  },
  {
   "cell_type": "markdown",
   "id": "5d217da7",
   "metadata": {},
   "source": [
    "### Arrays with numbers"
   ]
  },
  {
   "cell_type": "code",
   "execution_count": 352,
   "id": "871defc4",
   "metadata": {},
   "outputs": [],
   "source": [
    "from typing import List"
   ]
  },
  {
   "cell_type": "code",
   "execution_count": null,
   "id": "9191f4c7",
   "metadata": {},
   "outputs": [
    {
     "name": "stdout",
     "output_type": "stream",
     "text": [
      "{2: 0}\n",
      "[0, 1]\n"
     ]
    }
   ],
   "source": [
    "\"\"\"\n",
    "Two Sum\n",
    "\"\"\"\n",
    "class Solution:\n",
    "    # def twoSum(self, nums, target):\n",
    "    #     \"\"\"\n",
    "    #         - Временная сложность: O(n^2)\n",
    "    #         - Пространственная сложность: O(n)\n",
    "    #     \"\"\"\n",
    "    # for i in range(len(nums)):\n",
    "    #     for j in range(i+1,len(nums)):\n",
    "    #         if nums[i] + nums[j] == target:\n",
    "    #             return [i, j]\n",
    "    # return []\n",
    "\n",
    "    \n",
    "\n",
    "    def twoSum(self, nums: List[int], target: int) -> List[int]:\n",
    "        \"\"\"\n",
    "            - Временная сложность: O(n)\n",
    "            - Пространственная сложность: O(n)\n",
    "        \"\"\"\n",
    "        d = {}\n",
    "        for i in range(0, len(nums)):\n",
    "            if (target - nums[i]) in d:\n",
    "                return [d[target-nums[i]], i]\n",
    "            d[nums[i]] = i\n",
    "\n",
    "            \n",
    "\n",
    "\n",
    "nums = [2,7,11,15]; target = 9\n",
    "# nums = [3,2,4]; target = 6\n",
    "# nums = [3,3]; target = 6\n",
    "# nums =[3,2,3]; target=6\n",
    "c = Solution()\n",
    "print(c.twoSum(nums,target))"
   ]
  },
  {
   "cell_type": "code",
   "execution_count": 333,
   "id": "6b4e6107",
   "metadata": {},
   "outputs": [
    {
     "name": "stdout",
     "output_type": "stream",
     "text": [
      "3\n"
     ]
    }
   ],
   "source": [
    "\"\"\"\n",
    "Max Consecutive Ones\n",
    "\"\"\"\n",
    "\n",
    "Input = [1,1,0,1,1,1]\n",
    "\n",
    "def ex(arr):\n",
    "\n",
    "    max_count= 0\n",
    "    current_count = 0\n",
    "    for num in arr:\n",
    "        if num == 1:\n",
    "            current_count +=1\n",
    "            max_count = max(max_count, current_count)\n",
    "        else:\n",
    "            current_count = 0 \n",
    "    return max_count\n",
    "\n",
    "print(ex(Input))"
   ]
  },
  {
   "cell_type": "code",
   "execution_count": 334,
   "id": "6d1cf384",
   "metadata": {},
   "outputs": [
    {
     "name": "stdout",
     "output_type": "stream",
     "text": [
      "2\n"
     ]
    }
   ],
   "source": [
    "\"\"\"\n",
    "Find count of even numbers\n",
    "\"\"\"\n",
    "Input = [12,345,2,6,7896]\n",
    "\n",
    "class Solution:\n",
    "    def findNumbers(self, nums: list[int]) -> int:\n",
    "        list_of_even = []\n",
    "        for i in nums:\n",
    "            int_len= len(str(i))\n",
    "            if int_len % 2 == 0:\n",
    "                list_of_even+=[i]\n",
    "            else:\n",
    "                pass\n",
    "        return len(list_of_even)\n",
    "\n",
    "e = Solution()\n",
    "print(e.findNumbers(Input))"
   ]
  },
  {
   "cell_type": "code",
   "execution_count": 335,
   "id": "b5353ec2",
   "metadata": {},
   "outputs": [
    {
     "name": "stdout",
     "output_type": "stream",
     "text": [
      "[0, 1, 9, 16, 100]\n"
     ]
    }
   ],
   "source": [
    "\"\"\"\n",
    "Squares of a Sorted Array\n",
    "\"\"\"\n",
    "\n",
    "import math\n",
    "Input: list = [-4,-1,0,3,10]\n",
    "\n",
    "sorted_arr = sorted([i**2 for i in Input])\n",
    "#sorted_arr = sorted([math.sqrt(i) for i in Input]) #выдаст ошибку, потому что sqrt не может работать с отрицательными числами и вернет float\n",
    "print(sorted_arr)"
   ]
  },
  {
   "cell_type": "code",
   "execution_count": 336,
   "id": "4082c2b0",
   "metadata": {},
   "outputs": [],
   "source": [
    "\"\"\"\"\n",
    "Duplicate Zeros\n",
    "\"\"\"\n",
    "arr: list= [1,0,2,3,0,4,5,0]\n",
    "\n",
    "# def e(arr) -> None:\n",
    "const_length = len(arr)\n",
    "new_list = []\n",
    "while len(new_list) < const_length:\n",
    "    for n in arr:\n",
    "        new_list +=[n]\n",
    "        if n !=0:\n",
    "            pass\n",
    "        else:\n",
    "            new_list +=[n]\n",
    "if len(new_list) > const_length:\n",
    "    new_list[:const_length]\n",
    "else:\n",
    "    new_list"
   ]
  },
  {
   "cell_type": "code",
   "execution_count": 337,
   "id": "00bca0ea",
   "metadata": {},
   "outputs": [
    {
     "name": "stdout",
     "output_type": "stream",
     "text": [
      "7\n",
      "0 7 0\n",
      "1\n",
      "1 7 0\n",
      "0\n",
      "2 7 1\n",
      "2\n",
      "3 7 1\n",
      "3\n",
      "4 7 1\n",
      "0\n",
      "5 7 2\n",
      "4\n",
      "6 7 2\n",
      "last 5\n",
      "5 7 2\n",
      "4 7 2\n",
      "5\n",
      "3 7 1\n",
      "2 7 1\n",
      "1 7 1\n",
      "2\n",
      "0 7 0\n"
     ]
    }
   ],
   "source": [
    "arr: list= [1,0,2,3,0,4,5,0]\n",
    "const_length = len(arr) -1; print(const_length)\n",
    "possible_dups = 0\n",
    "for left in range(const_length + 1):\n",
    "    print(left, const_length, possible_dups)\n",
    "    if left > const_length - possible_dups:\n",
    "        break\n",
    "    print(arr[left])\n",
    "    if arr[left] == 0:\n",
    "        if left == const_length - possible_dups:\n",
    "            arr[const_length] = 0\n",
    "            const_length -=1\n",
    "            break\n",
    "        possible_dups +=1\n",
    "\n",
    "last = const_length - possible_dups\n",
    "print(\"last\",last)\n",
    "for i in range(last, -1, -1):\n",
    "    print(i, const_length, possible_dups)\n",
    "    if arr[i] == 0:\n",
    "        print(arr[i + possible_dups])\n",
    "        arr[i + possible_dups] = 0\n",
    "        possible_dups -= 1\n",
    "        arr[i + possible_dups] = 0\n",
    "    else:\n",
    "        arr[i + possible_dups] = arr[i]\n",
    "\n"
   ]
  },
  {
   "cell_type": "code",
   "execution_count": null,
   "id": "7383cbf3",
   "metadata": {},
   "outputs": [
    {
     "name": "stdout",
     "output_type": "stream",
     "text": [
      "[1, 0, 0, 2, 3, 0, 0, 4]\n"
     ]
    }
   ],
   "source": [
    "\"\"\"\"\n",
    "Duplicate Zeros in the input array \n",
    "Временная сложность: O(n)\n",
    "1. Первый проход по массиву: Этот проход идет от начала до конца массива, в нём выполняется линейное количество операций. Это занимает O(n), где n — размер массива.\n",
    "2. Второй проход по массиву: Этот проход идет от конца до начала массива и также занимает O(n).\n",
    "\"\"\"\n",
    "class Solution:\n",
    "    def duplicateZeros(self, arr: list[int]) -> None:\n",
    "        \"\"\"\n",
    "        Do not return anything, modify arr in-place instead.\n",
    "        \"\"\"\n",
    "\n",
    "        possible_dups = 0\n",
    "        length_ = len(arr) - 1\n",
    "\n",
    "        for left in range(length_ + 1):\n",
    "            if left > length_ - possible_dups:\n",
    "                break\n",
    "\n",
    "            # Count the zeros\n",
    "            if arr[left] == 0:\n",
    "                if left == length_ - possible_dups:\n",
    "                    arr[length_] = 0 # For this zero we just copy it without duplication.\n",
    "                    length_ -= 1\n",
    "                    break\n",
    "                possible_dups += 1\n",
    "\n",
    "        last = length_ - possible_dups\n",
    "\n",
    "        for i in range(last, -1, -1):\n",
    "            if arr[i] == 0:\n",
    "                arr[i + possible_dups] = 0\n",
    "                possible_dups -= 1\n",
    "                arr[i + possible_dups] = 0\n",
    "            else:\n",
    "                arr[i + possible_dups] = arr[i]\n",
    "\n",
    "Input: list= [1,0,2,3,0,4,5,0]\n",
    "c = Solution()\n",
    "c.duplicateZeros(Input)\n",
    "print(Input)"
   ]
  },
  {
   "cell_type": "code",
   "execution_count": 339,
   "id": "275e9997",
   "metadata": {},
   "outputs": [],
   "source": [
    "\"\"\"\n",
    "Merge Sorted Array\n",
    "1. Сложность удаления и перебора: O(m + n) (для удаления элементов в nums1).\n",
    "2. Сложность сортировки empt_nums2: O(n log n)\n",
    "3. Сложность последующей сортировки nums1: O(m log m + n log n), если мы считаем, что нужно отсортировать весь список в конце.\n",
    "O(n log n)\n",
    "\"\"\"\n",
    "\n",
    "class Solution:\n",
    "    def merge(self, nums1: list[int], m: int, nums2: list[int], n: int) -> None:\n",
    "        \"\"\"\n",
    "        Do not return anything, modify nums1 in-place instead.\n",
    "        \"\"\"\n",
    "        nums1.append(nums2)\n",
    "        empt_nums2= []\n",
    "        for i in range(len(nums1)-1, -1, -1):    \n",
    "            if isinstance(nums1[i], list):\n",
    "                nested_list = nums1[i]\n",
    "                for ii in range(len(nested_list)-1, -1,-1):\n",
    "                    if ii > n-1:\n",
    "                        del nested_list[ii]\n",
    "                    else:\n",
    "                        empt_nums2.append(nested_list[ii])\n",
    "                empt_nums2.sort()\n",
    "            if i > m-1:\n",
    "                del nums1[i]\n",
    "        nums1.extend(empt_nums2)\n",
    "        nums1.sort()\n"
   ]
  },
  {
   "cell_type": "code",
   "execution_count": 340,
   "id": "c172de6f",
   "metadata": {},
   "outputs": [
    {
     "name": "stdout",
     "output_type": "stream",
     "text": [
      "0\n",
      "5\n"
     ]
    }
   ],
   "source": [
    "\"\"\"\n",
    "Remove Element\n",
    "\n",
    "- Временная сложность:O(n) — один проход по массиву для удаления вхождений.\n",
    "- Пространственная сложность: O(1) — Алгоритм использует фиксированное количество дополнительной памяти (переменные count_k, i),\n",
    "    и он модифицирует массив на месте (in-place),\n",
    "    что означает отсутствие необходимости выделения дополнительного пространства для нового массива.\n",
    "\"\"\"\n",
    "class Solution:\n",
    "    def removeElement(self, nums: list[int], val: int) -> int:\n",
    "        count_k = 0\n",
    "        print(count_k)\n",
    "        for i in range(len(nums)):\n",
    "            if nums[i] != val:\n",
    "                nums[count_k] = nums[i]\n",
    "                count_k+=1\n",
    "        return count_k\n",
    "\n",
    "    \n",
    "input = [0,1,2,2,3,0,4,2]; val = 2\n",
    "# input=[2,2,3]\n",
    "# val=3\n",
    "# input = [1]; val = 1\n",
    "c = Solution()\n",
    "re =  c.removeElement(input, val)\n",
    "print(re)"
   ]
  },
  {
   "cell_type": "code",
   "execution_count": 25,
   "id": "198d2a11",
   "metadata": {},
   "outputs": [
    {
     "name": "stdout",
     "output_type": "stream",
     "text": [
      "5\n"
     ]
    }
   ],
   "source": [
    "\"\"\"\n",
    "Remove Duplicates from Sorted Array\n",
    "Если использовать repeated_nums как list, тогда O(n^2)\n",
    "Если использовать repeated_nums как set, тогда O(n) - что лучше \n",
    "\"\"\"\n",
    "\n",
    "class Solution:\n",
    "    def removeDuplicates(self, nums: list[int]) -> int:\n",
    "        repeated_nums=set()\n",
    "        count = 0\n",
    "\n",
    "        for i in range(len(nums)-1, -1, -1):\n",
    "            if nums[i] in repeated_nums:\n",
    "                del nums[i]\n",
    "            else:\n",
    "                repeated_nums.add(nums[i])\n",
    "                count +=1\n",
    "        return count\n",
    "\n",
    "\n",
    "Input = [0,0,1,1,1,2,2,3,3,4]\n",
    "\n",
    "c= Solution()\n",
    "print(c.removeDuplicates(Input))"
   ]
  },
  {
   "cell_type": "code",
   "execution_count": null,
   "id": "1805e5e4",
   "metadata": {},
   "outputs": [
    {
     "name": "stdout",
     "output_type": "stream",
     "text": [
      "True\n"
     ]
    }
   ],
   "source": [
    "\"\"\"\n",
    "Check If N and Its Double Exist\n",
    "\n",
    "Conditions:\n",
    "1) i != j\n",
    "2) 0 <= i, j < arr.length\n",
    "3) arr[i] == 2 * arr[j]\n",
    "\"\"\"\n",
    "\n",
    "\n",
    "class Solution:\n",
    "    \"\"\"\n",
    "    My Solution\n",
    "    Временная сложность: O(n^2)\n",
    "    Пространственная сложность: O(1)\n",
    "    \"\"\"\n",
    "    def checkIfExist(self, arr: list[int]) -> bool:\n",
    "        i = 0\n",
    "        for i in range(len(arr)):\n",
    "            if arr[i] == 0:\n",
    "                if arr.count(0) > 1:\n",
    "                    return True\n",
    "                continue\n",
    "            for j in range(i, len(arr)):\n",
    "                if arr[i] == 2*arr[j] or arr[i]*2 == arr[j]:\n",
    "                    return True\n",
    "        return False\n",
    "\n",
    "class Solution:\n",
    "    \"\"\"\n",
    "    Best solution\n",
    "    Time complexity: O(n)\n",
    "    \"\"\"\n",
    "    def checkIfExist(self, arr: list[int]) -> bool:\n",
    "        seen = set()\n",
    "        for num in arr:\n",
    "            # Check if 2 * num or num / 2 exists in the set\n",
    "            if 2 * num in seen or (num % 2 == 0 and num // 2 in seen):\n",
    "                return True\n",
    "            # Add the current number to the set\n",
    "            seen.add(num)\n",
    "        # No valid pair found\n",
    "        return False\n",
    "\n",
    "\n",
    "# Input  = [10,2,5,3]\n",
    "# Input =[0,0]\n",
    "# Input= [3,1,7,11]\n",
    "# Input=[7,1,14,11]\n",
    "# Input=[-16,-13,8]\n",
    "Input=[-20,8,-6,-14,0,-19,14,4]\n",
    "# Input = [-2,0,10,-19,4,6,-8]\n",
    "\n",
    "c = Solution()\n",
    "print(c.checkIfExist(Input))\n"
   ]
  },
  {
   "cell_type": "code",
   "execution_count": null,
   "id": "997df9a0",
   "metadata": {},
   "outputs": [
    {
     "name": "stdout",
     "output_type": "stream",
     "text": [
      "9 5\n",
      "5 4\n",
      "4 1\n",
      "1 2\n",
      "False\n"
     ]
    }
   ],
   "source": [
    "\"\"\"\n",
    "Valid Mountain Array\n",
    "- Временная сложность: (O(n)\n",
    "- Пространственная сложность: (O(n)\n",
    "\"\"\"\n",
    "\n",
    "class Solution:\n",
    "    def validMountainArray(self, arr: list[int]) -> bool:\n",
    "        if len(arr) <3:\n",
    "            return False\n",
    "        if (arr[0] or arr[-1]) == max(arr):\n",
    "            return False\n",
    "        else:\n",
    "            heighst_idx = arr.index(max(arr))\n",
    "            left_set, right_set = [], []\n",
    "            if arr.count(max(arr)) ==1:\n",
    "\n",
    "                for i in range(heighst_idx):\n",
    "                    if (arr[i]!= arr[i+1]) and (arr[i]<arr[i+1]):\n",
    "                        left_set +=[arr[i]]\n",
    "                    else:\n",
    "                        return False\n",
    "\n",
    "                for j in range(heighst_idx,len(arr)-1):\n",
    "                    print(arr[j], arr[j+1])\n",
    "                    if (arr[j] != arr[j+1]) and (arr[j]>arr[j+1]):\n",
    "                        right_set += [arr[j]]\n",
    "                    else:\n",
    "                        return False\n",
    "\n",
    "                if left_set and right_set:\n",
    "                    return True\n",
    "\n",
    "            else:\n",
    "                return False\n",
    "\n",
    "arr = [2,1]\n",
    "# arr = [0,3,2,1]\n",
    "# arr = [3,5,5]\n",
    "# arr = [0,1,2,3,4,5,2,1,0]\n",
    "# arr = [0,1,2,3,4,5,6,7,8,9]\n",
    "# arr = [0,0]\n",
    "# arr = [9,8,7,6,5,4,3,2,1,0]\n",
    "arr = [1,7,9,5,4,1,2]\n",
    "# arr=[0,3,2,4,6,7,9,10,12,13,14,15,16,17,18,16]\n",
    "c  =Solution()\n",
    "print(c.validMountainArray(arr))\n",
    "\n"
   ]
  },
  {
   "cell_type": "code",
   "execution_count": 96,
   "id": "afb94338",
   "metadata": {},
   "outputs": [
    {
     "name": "stdout",
     "output_type": "stream",
     "text": [
      "[-1]\n"
     ]
    }
   ],
   "source": [
    "\"\"\"\n",
    "Replace Elements with Greatest Element on Right Side\n",
    "\"\"\"\n",
    "class Solution:\n",
    "    \"\"\"\n",
    "    - Временная сложность = O(n^2) (из-за insert)\n",
    "    - Пространственная сложность = O(n) (из-за copy)\n",
    "    \"\"\"\n",
    "    def replaceElements(self, arr: list[int]) -> list[int]:\n",
    "        copy = arr.copy()\n",
    "        arr.clear()\n",
    "        max_num = 0\n",
    "        for i in range(len(copy)-1, -1,-1):\n",
    "                print(max_num)\n",
    "                if copy[i] > max_num:\n",
    "                    max_num =copy[i]\n",
    "                    arr.insert(0,max_num)\n",
    "                else:\n",
    "                     arr.insert(0,max_num)\n",
    "\n",
    "        del arr[0]\n",
    "        arr += [-1]\n",
    "        return arr\n",
    "    \n",
    "    def replaceElements_new(self, arr: list[int]) -> list[int]:\n",
    "        \"\"\"\n",
    "        - Временная сложность: O(n)\n",
    "        - Пространственная сложность: O(1)\n",
    "        //Вместо del можно изначально поставить заменитель и его добавку в массив\n",
    "        \"\"\"\n",
    "        last_num =  -1 \n",
    "        for i in range(len(arr)-1, -1, -1):\n",
    "            #   replace = right_num\n",
    "            #   if arr[i] > right_num:\n",
    "              arr[i] = max(last_num,arr[i])\n",
    "              last_num = arr[i]\n",
    "            # arr[i] = replace\n",
    "\n",
    "        del arr[0]\n",
    "        arr += [-1]\n",
    "        return arr\n",
    "\n",
    "# arr = [17,18,5,4,6,1]\n",
    "arr = [400]\n",
    "\n",
    "c = Solution()\n",
    "print(c.replaceElements_new(arr))"
   ]
  },
  {
   "cell_type": "code",
   "execution_count": null,
   "id": "ddbd7c0d",
   "metadata": {},
   "outputs": [
    {
     "name": "stdout",
     "output_type": "stream",
     "text": [
      "3\n"
     ]
    }
   ],
   "source": [
    "class Solution:\n",
    "    def removeDuplicates_v2(self, nums: list[int]) -> int:\n",
    "        \"\"\"\n",
    "        В отсортированном массиве на входе\n",
    "        Time complexity = O(n), если использовать repeated_nums как set\n",
    "        Space complexituy = O(1)\n",
    "\n",
    "        \"\"\"\n",
    "\n",
    "        uniq_els = set()\n",
    "        count_uniques = 0\n",
    "        for i in range(len(nums)-1, -1, -1):\n",
    "            if nums[i] in uniq_els:\n",
    "                del nums[i]\n",
    "            else:\n",
    "                uniq_els.add(nums[i])\n",
    "                count_uniques +=1\n",
    "        return count_uniques\n",
    "                \n",
    "\n",
    "# nums = [0,0,1,1,1,2,2,3,3,4]   \n",
    "nums = [1,1,2]\n",
    "nums = [-1,0,0,0,0,3,3]\n",
    "\n",
    "c = Solution()\n",
    "print(c.removeDuplicates_v2(nums))"
   ]
  },
  {
   "cell_type": "code",
   "execution_count": 135,
   "id": "dca29490",
   "metadata": {},
   "outputs": [
    {
     "name": "stdout",
     "output_type": "stream",
     "text": [
      "-1\n",
      "4\n",
      "7\n",
      "19\n",
      "[-1, 4, 7, 19, 0]\n",
      "None\n"
     ]
    }
   ],
   "source": [
    "\"\"\"\n",
    "Move Zeroes\n",
    "! Note that you must do this in-place without making a copy of the array.\n",
    "- Временная сложность: O(n)\n",
    "- Пространственная сложность: O(1)\n",
    "\"\"\"\n",
    "\n",
    "class Solution:\n",
    "    def moveZeroes(self, nums: list[int]) -> None:\n",
    "        \"\"\"\n",
    "        Do not return anything, modify nums in-place instead.\n",
    "        Временная: O(n^2)\n",
    "        Пространственная сложность: O(1)\n",
    "        \"\"\"\n",
    "        if len(nums) == 1:\n",
    "            return [0]\n",
    "\n",
    "        nulls_list = []\n",
    "\n",
    "        for i in range(len(nums)-1,-1,-1):\n",
    "\n",
    "            if nums[i] == 0:\n",
    "                nulls_list += [nums[i]]\n",
    "                del nums[i]\n",
    "        nums.extend(nulls_list)\n",
    "\n",
    "    def moveZeroes_optimized(self, nums: list[int]) -> None:\n",
    "        \"\"\"\n",
    "        - Временная сложность: O(n)\n",
    "        - Пространственная сложность: O(1)\n",
    "        \"\"\"\n",
    "        non_zero_index = 0\n",
    "        for i in range(len(nums)):\n",
    "            if nums[i] != 0:\n",
    "                nums[non_zero_index] = nums[i]\n",
    "                print(nums[non_zero_index])\n",
    "                non_zero_index += 1\n",
    "        \n",
    "        for i in range(non_zero_index, len(nums)):\n",
    "            nums[i] = 0\n",
    "\n",
    "        print(nums)\n",
    "\n",
    "# nums = [0]\n",
    "# nums = [0,1,0,3,12]\n",
    "nums = [-1,0,4,7,19]\n",
    "\n",
    "c = Solution()\n",
    "print(c.moveZeroes_optimized(nums))\n"
   ]
  },
  {
   "cell_type": "code",
   "execution_count": null,
   "id": "0f8f20f5",
   "metadata": {},
   "outputs": [
    {
     "name": "stdout",
     "output_type": "stream",
     "text": [
      "[0, -4, -8, -1, 7, 19]\n"
     ]
    }
   ],
   "source": [
    "\"\"\"\n",
    "Sort Array By Parity\n",
    "- если решать in-place, то ниже приведены алгоритмы\n",
    "- если можно выдать новый список, тогда oddlst,evenlst=[],[] if %2==0: +=even, else odd; evenlst + oddlst\n",
    "\"\"\"\n",
    "\n",
    "class Solution:\n",
    "    def sortArrayByParity(self, nums: list[int]) -> list[int]:\n",
    "        \"\"\"\n",
    "            - Временная сложность: O(n)\n",
    "            - Пространственная сложность: O(n)\n",
    "        \"\"\"\n",
    "        \n",
    "        even_index = 0\n",
    "        odd_index = 0\n",
    "        odd_list = []\n",
    "        for i in range(len(nums)):\n",
    "            if nums[i] % 2 ==0:\n",
    "                nums[even_index] = nums[i]\n",
    "                even_index +=1\n",
    "            else:\n",
    "                odd_list += [nums[i]]\n",
    "\n",
    "        for j in range(even_index,len(nums)):\n",
    "            nums[j] = odd_list[odd_index]\n",
    "            odd_index +=1\n",
    "        del odd_list\n",
    "\n",
    "        return nums\n",
    "        \n",
    "    def sortArrayByParity_v2(self, nums: list[int]) -> list[int]:\n",
    "        \"\"\"\n",
    "        - Временная сложность: O(n)\n",
    "        - Пространственная сложность: O(1)\n",
    "        \"\"\"\n",
    "        idx = 0\n",
    "        for i in range(len(nums)):\n",
    "            if nums[i] % 2 == 0:\n",
    "                nums[idx], nums[i] = nums[i], nums[idx]\n",
    "                idx += 1\n",
    "        return nums\n",
    "        \n",
    "\n",
    "# nums = [3,1,2,4]\n",
    "# nums = [0]\n",
    "# nums = [-1,0,4,7,19]\n",
    "nums = [-1,0,-4,7,19, -8]\n",
    "\n",
    "\n",
    "c = Solution()\n",
    "print(c.sortArrayByParity(nums))"
   ]
  },
  {
   "cell_type": "code",
   "execution_count": null,
   "id": "54fac435",
   "metadata": {},
   "outputs": [
    {
     "name": "stdout",
     "output_type": "stream",
     "text": [
      "[0, 1, 2, 2, 3, 0, 4, 2]\n",
      "5\n"
     ]
    }
   ],
   "source": [
    "\"\"\"\n",
    "Remove Element\n",
    "\"\"\"\n",
    "class Solution:\n",
    "    def removeElement(self, nums: list[int], val: int) -> int:\n",
    "        \"\"\"\n",
    "            - Временная сложность: O(n)\n",
    "            - Пространственная сложность: O(1)\n",
    "        \"\"\"\n",
    "        elements_after_remove = len(nums)\n",
    "        idx = 0\n",
    "        for i in range(len(nums)):\n",
    "            if nums[i] != val:\n",
    "                nums[idx], nums[i] = nums[i], nums[idx]\n",
    "                idx +=1\n",
    "            else:\n",
    "                elements_after_remove -=1\n",
    "\n",
    "        return elements_after_remove\n",
    "\n",
    "\n",
    "nums = [0,1,2,2,3,0,4,2]; val = 2\n",
    "# nums = [3,2,2,3]; val = 3\n",
    "# nums=[0,1,2,2,3,0,4,2]; val = 2\n",
    "print(nums)\n",
    "c=Solution()\n",
    "print(c.removeElement(nums, val))"
   ]
  },
  {
   "cell_type": "code",
   "execution_count": null,
   "id": "12206d6a",
   "metadata": {},
   "outputs": [
    {
     "name": "stdout",
     "output_type": "stream",
     "text": [
      "1\n",
      "1\n"
     ]
    }
   ],
   "source": [
    "\"\"\"\n",
    "Single Number\n",
    "\"\"\"\n",
    "class Solution:\n",
    "    def singleNumber(self, nums: List[int]) -> int:\n",
    "        \"\"\"        \n",
    "            Временная сложность: O(n)  \n",
    "            Пространственная сложность: O(n)\n",
    "        \"\"\"\n",
    "        dct={}\n",
    "\n",
    "        for n in nums:\n",
    "            if n in dct:\n",
    "                dct[n] +=1\n",
    "            else:\n",
    "                dct[n] =1\n",
    "    \n",
    "        for k, v in dct.items():\n",
    "            if v == 1:\n",
    "                return k\n",
    "            \n",
    "\n",
    "    def singleNumber(self, nums: List[int]) -> int:\n",
    "        \"\"\"\n",
    "            1. Временная сложность: O(n).\n",
    "            2. Пространственная сложность: O(1).\n",
    "        \"\"\"\n",
    "        result = 0\n",
    "        for num in nums:\n",
    "            result ^= num  # Применяем XOR ко всем элементам\n",
    "        return result  # Остаток будет единственным числом\n",
    "\n",
    "\n",
    "# nums = [2,2,1]\n",
    "# nums = [4,1,2,1,2]\n",
    "nums = [1]\n",
    "\n",
    "c = Solution()\n",
    "print(c.singleNumber(nums))"
   ]
  },
  {
   "cell_type": "code",
   "execution_count": null,
   "id": "0d013d96",
   "metadata": {},
   "outputs": [
    {
     "name": "stdout",
     "output_type": "stream",
     "text": [
      "[2]\n"
     ]
    }
   ],
   "source": [
    "\"\"\"\n",
    "  Intersection of Two Arrays II\n",
    "\"\"\"\n",
    "class Solution:    \n",
    "    def intersect(self, nums1: list[int], nums2: list[int]) -> list[int]:\n",
    "        \"\"\"\n",
    "        Time c = O(n + m + k)\n",
    "        Space c = O(n + k)\n",
    "        \"\"\"\n",
    "        seen = set()\n",
    "        res = set()\n",
    "        for num in nums1:\n",
    "            seen.add(num)\n",
    "\n",
    "        for num in nums2:\n",
    "            if num in seen:\n",
    "                res.add(num)\n",
    "\n",
    "        return list(res)\n",
    "    \n",
    "    # def intersect(self, nums1: list[int], nums2: list[int]) -> list[int]:\n",
    "    #     \"\"\"\n",
    "    #         Временная сложность: O(n₁ log n₁ + n₂ log n₂)  \n",
    "    #         Пространственная сложность: O(min(n₁, n₂))\n",
    "    #     \"\"\"\n",
    "    #     nums1.sort(); nums2.sort()\n",
    "\n",
    "    #     res=[]\n",
    "    #     p1=0; p2=0\n",
    "\n",
    "    #     while p1 < len(nums1) and p2 < len(nums2):\n",
    "    #         if nums1[p1] == nums2[p2]:\n",
    "    #             res += [nums1[p1]]\n",
    "    #             p1+=1; p2+=1\n",
    "    #         elif nums1[p1] < nums2[p2]:\n",
    "    #             p1+=1\n",
    "    #         else:\n",
    "    #             p2+=1\n",
    "    #     return list(set(res))\n",
    "    \n",
    "\n",
    "    # def intersect(self, nums1: List[int], nums2: List[int]) -> List[int]:\n",
    "    #     \"\"\"\n",
    "    #         Временная сложность: O(n₁ + n₂)  \n",
    "    #         Пространственная сложность: O(u + min(n₁, n₂))\n",
    "    #     \"\"\"\n",
    "    #     from collections import Counter\n",
    "    #     count = Counter(nums1)\n",
    "    #     print(count)\n",
    "    #     res = []\n",
    "\n",
    "    #     for num in nums2:\n",
    "    #         if count[num] > 0:\n",
    "    #             res.append(num)\n",
    "    #             count[num] -= 1\n",
    "    #     return res\n",
    "            \n",
    "\n",
    "nums1 = [4,9,5]; nums2 = [9,4,9,8,4]\n",
    "nums1 = [1,2,2,1]; nums2 = [2,2]\n",
    "\n",
    "c = Solution()\n",
    "print(c.intersect(nums1,nums2))"
   ]
  },
  {
   "cell_type": "code",
   "execution_count": null,
   "id": "7b67068a",
   "metadata": {},
   "outputs": [],
   "source": [
    "class Solution:\n",
    "    def containsDuplicate(self, nums: List[int]) -> bool:\n",
    "\n",
    "        uniqs = set()\n",
    "        for i in range(len(nums)):\n",
    "            if nums[i] in uniqs:\n",
    "                return True\n",
    "            else:\n",
    "                uniqs.add(nums[i])\n",
    "\n",
    "        return False\n",
    "    \n",
    "# class Solution:\n",
    "#     def containsDuplicate(self, nums: List[int]) -> bool:\n",
    "#         return len(set(nums))!=len(nums)\n",
    "\n",
    "nums = [1,2,3,1]\n",
    "# nums = [1,2,3,4]\n",
    "# nums = [1,1,1,3,3,4,3,2,4,2]\n",
    "\n",
    "c = Solution()\n",
    "print(c.containsDuplicate(nums))    "
   ]
  },
  {
   "cell_type": "code",
   "execution_count": 456,
   "id": "5e27e036",
   "metadata": {},
   "outputs": [
    {
     "name": "stdout",
     "output_type": "stream",
     "text": [
      "[5, 6, 7, 1, 2, 3, 4]\n"
     ]
    }
   ],
   "source": [
    "class Solution:\n",
    "    def rotate(self, nums: List[int], k: int) -> List:\n",
    "        \"\"\"\n",
    "        Do not return anything, modify nums in-place instead.\n",
    "        \"\"\"\n",
    "        k %= len(nums)\n",
    "        nums[:]=nums[-k:] + nums[:-k]\n",
    "        return nums\n",
    "\n",
    "# nums = [-1,-100,3,99]; k = 2\n",
    "nums = [1,2,3,4,5,6,7];  k = 3\n",
    "nums=[1,2,3,4,5,6,7]\n",
    "k=3\n",
    "\n",
    "\n",
    "c = Solution()\n",
    "print(c.rotate(nums,k))       "
   ]
  },
  {
   "cell_type": "code",
   "execution_count": 483,
   "id": "127f9d5c",
   "metadata": {},
   "outputs": [
    {
     "name": "stdout",
     "output_type": "stream",
     "text": [
      "[0]\n",
      "[1, 0]\n",
      "[1, 0]\n"
     ]
    }
   ],
   "source": [
    "\"\"\"\n",
    "Plus One\n",
    "\"\"\"\n",
    "class Solution:\n",
    "    \"\"\"\n",
    "        - Time complexity: O(n)\n",
    "        - Space conplexity: O(n)\n",
    "    \"\"\"\n",
    "    # def plusOne(self, arr: list[int]) -> list[int]:\n",
    "\n",
    "    #     num_str = \"\".join([str(x) for x in arr])\n",
    "    #     num_total_int = str(int(num_str) + 1)\n",
    "    #     return [int(x) for x in num_total_int]\n",
    "    \n",
    "    def plusOne(self, digits: list[int]) -> list[int]:\n",
    "        \"\"\"\n",
    "        - Time complexity: O(n)\n",
    "        - Space conplexity: O(1)\n",
    "        \"\"\"\n",
    "        n = len(digits)\n",
    "        for i in range(n - 1, -1, -1):\n",
    "            if digits[i] < 9:\n",
    "                digits[i] += 1\n",
    "                return digits\n",
    "            digits[i] = 0 \n",
    "        print(digits)\n",
    "        digits.insert(0, 1)\n",
    "        print(digits)\n",
    "        return digits\n",
    "    \n",
    "\n",
    "\n",
    "digits = [1,2,3]\n",
    "# digits = [4,3,2,1]\n",
    "digits = [9]\n",
    "c = Solution()\n",
    "print(c.plusOne(digits))    "
   ]
  },
  {
   "cell_type": "markdown",
   "id": "bae2ec49",
   "metadata": {},
   "source": [
    "# STRING "
   ]
  },
  {
   "cell_type": "code",
   "execution_count": null,
   "id": "9852f1af",
   "metadata": {},
   "outputs": [],
   "source": [
    "class Solution:\n",
    "    def reverseString(self, s: List[str]) -> list:\n",
    "        \"\"\"\n",
    "        Do not return anything, modify s in-place instead.\n",
    "        - Time complexity = O(n^2)\n",
    "        - Space complexity = O(1)\n",
    "\n",
    "        \"\"\"\n",
    "        left_stop = len(s) // 2 + 1 if len(s) % 2==0 else len(s) // 2\n",
    "        right_stop = len(s) // 2 - 1 if len(s) % 2==0 else len(s) // 2 -1\n",
    "        for i in range(left_stop):\n",
    "            for j in range(right,right_stop,-1):\n",
    "                s[left], s[j] = s[j], s[left]\n",
    "                left +=1\n",
    "                right -=1\n",
    "        return s\n",
    "    \n",
    "    \"\"\"Самое простое решение - return s.reverse() или return s[::-1]\"\"\"\n",
    "    \"\"\"\n",
    "        Второе по простоте:\n",
    "            left=0\n",
    "            right=len(s)-1\n",
    "            while left < right:\n",
    "                s[left], s[right] = s[right], s[left]\n",
    "                left +=1\n",
    "                right -=1\n",
    "            return s\n",
    "        \n",
    "    \"\"\"\n",
    "    \n",
    "# s = [\"h\",\"e\",\"l\",\"l\",\"o\"]\n",
    "s = [\"H\",\"a\",\"n\",\"n\",\"a\",\"h\"]\n",
    "s = [\"a\",\"b\",\"c\", \"d\", \"e\", \"f\",\"g\"]\n",
    "\n",
    "# s = [\"a\",\"b\",\"c\", \"d\", \"e\", \"f\"]\n",
    "c=Solution()\n",
    "print(c.reverseString(s=s))"
   ]
  },
  {
   "cell_type": "code",
   "execution_count": 599,
   "id": "b6445f60",
   "metadata": {},
   "outputs": [
    {
     "name": "stdout",
     "output_type": "stream",
     "text": [
      "321\n",
      "-321\n"
     ]
    }
   ],
   "source": [
    "\"\"\"\n",
    "Reverse Integer\n",
    "\"\"\"\n",
    "class Solution:\n",
    "    def reverse(self, x: int) -> int:\n",
    "        \"\"\"\n",
    "        - Time Complexity: O(n)\n",
    "        - Space Complexity: O(n)\n",
    "        \"\"\"\n",
    "        \n",
    "        res = 0\n",
    "        if x < 0:\n",
    "            res = int(str(x)[1:][::-1]) * -1\n",
    "        else:\n",
    "            res = int(str(x)[::-1])\n",
    "        \n",
    "        if res > 2 ** 31 - 1 or res < -2 ** 31:\n",
    "            return 0\n",
    "        return res\n",
    "        \n",
    "        \n",
    "x = 120\n",
    "x = -123\n",
    "# x = 123\n",
    "# x  = 1534236469\n",
    "# x = -77060\n",
    "# x = 10000000\n",
    "# x = -30060\n",
    "# x = -2147483412\n",
    "# x = 0\n",
    "print(str(x)[1:][::-1])\n",
    "c = Solution()\n",
    "print(c.reverse(x))"
   ]
  },
  {
   "cell_type": "code",
   "execution_count": null,
   "id": "f6bf5d73",
   "metadata": {},
   "outputs": [
    {
     "name": "stdout",
     "output_type": "stream",
     "text": [
      "0\n"
     ]
    }
   ],
   "source": [
    "\"\"\"\n",
    "First Unique Character in a String\n",
    "\"\"\"\n",
    "\n",
    "class Solution:\n",
    "    def firstUniqChar(self, s: str) -> int:\n",
    "        # from collections import Counter\n",
    "        # count = Counter(nums1)\n",
    "        \"\"\"\n",
    "        - Временная сложность: O(n)\n",
    "        - Пространственная сложность: O(n)\n",
    "        \"\"\"\n",
    "        idx_count = {}\n",
    "\n",
    "        s_list = list(\"\".join([s]))\n",
    "        for i in range(len(s_list)):\n",
    "            if s_list[i] in idx_count:\n",
    "                idx_count[s_list[i]] +=1\n",
    "            else:\n",
    "                idx_count[s_list[i]] = 1\n",
    "\n",
    "        for j in range(len(s_list)):\n",
    "            if idx_count[s_list[j]] == 1:\n",
    "                return j\n",
    "        return -1\n",
    "        \n",
    "        \n",
    "        \n",
    "            \n",
    "\n",
    "        \n",
    "\n",
    "\n",
    "s = \"leetcode\"\n",
    "# s = \"loveleetcode\"\n",
    "# s = \"aabb\"\n",
    "\n",
    "c = Solution()\n",
    "print(c.firstUniqChar(s))"
   ]
  },
  {
   "cell_type": "code",
   "execution_count": null,
   "id": "e0bf46e7",
   "metadata": {},
   "outputs": [
    {
     "name": "stdout",
     "output_type": "stream",
     "text": [
      "True\n"
     ]
    }
   ],
   "source": [
    "\"\"\"\n",
    "Valid Anagram\n",
    "\"\"\"\n",
    "class Solution:\n",
    "    def isAnagram(self, s: str, t: str) -> bool:\n",
    "        return ''.join(sorted(s)) == ''.join(sorted(t))\n",
    "    \n",
    "    \"\"\"\n",
    "    Второе решение без дополнительной сортировки занимает очень мало runtime distribution\n",
    "    from collections import Counter\n",
    "    def isAnagram(self, s: str, t: str) -> bool:\n",
    "        count1 = Counter(s)\n",
    "        count2 = Counter(t)\n",
    "\n",
    "        return count1 == count2\n",
    "    \"\"\"\n",
    "        \n",
    "\n",
    "\n",
    "s = \"anagram\"; t = \"nagaram\"\n",
    "# s = \"rat\" ; t = \"car\"\n",
    "c = Solution()\n",
    "print(c.isAnagram(s=s, t=t))"
   ]
  },
  {
   "cell_type": "code",
   "execution_count": 658,
   "id": "48387dd2",
   "metadata": {},
   "outputs": [
    {
     "name": "stdout",
     "output_type": "stream",
     "text": [
      "True\n"
     ]
    }
   ],
   "source": [
    "\"\"\"\n",
    "Valid Palindrome\n",
    "\"\"\"\n",
    "class Solution:\n",
    "    def isPalindrome(self, s: str) -> bool:\n",
    "        import re \n",
    "        if len(s) == 1:\n",
    "            return True\n",
    "        \n",
    "        s: str = re.sub(r'[^a-zA-Z0-9]', '',s).lower()\n",
    "        copy: str = s[::-1]    \n",
    "        \n",
    "        return s == copy\n",
    "\n",
    "s = \"race a car\"\n",
    "s = \"A man, a plan, a canal: Panama\"\n",
    "c=Solution()\n",
    "print(c.isPalindrome(s))"
   ]
  },
  {
   "cell_type": "code",
   "execution_count": null,
   "id": "cb4d8531",
   "metadata": {},
   "outputs": [
    {
     "name": "stdout",
     "output_type": "stream",
     "text": [
      "2\n"
     ]
    }
   ],
   "source": [
    "\"\"\"\n",
    "Implement strStr()\n",
    "\"\"\"\n",
    "\n",
    "class Solution:\n",
    "    def strStr(self, haystack: str, needle: str) -> int:\n",
    "        \"\"\"\n",
    "        Time complexity = O(n + m)\n",
    "        Space complexity = O(1)\n",
    "        \"\"\"\n",
    "        \n",
    "        i =0\n",
    "        j= len(needle)\n",
    "        for l in range(len(haystack)):\n",
    "            if haystack[i:j:] == needle:\n",
    "                return i\n",
    "            i+=1\n",
    "            j+=1\n",
    "        return -1\n",
    "    \n",
    "\n",
    "# haystack = \"sadbutsad\"; needle = \"sad\"\n",
    "haystack = \"leetcode\"; needle = \"leeto\"\n",
    "# haystack = \"thatisnone\"; needle = \"none\"\n",
    "haystack =\"hello\"; needle = \"ll\"\n",
    "\n",
    "c = Solution()\n",
    "print(c.strStr(haystack,needle))"
   ]
  },
  {
   "cell_type": "code",
   "execution_count": 43,
   "id": "093a5547",
   "metadata": {},
   "outputs": [
    {
     "name": "stdout",
     "output_type": "stream",
     "text": [
      "['flow', 'flight']\n",
      "flowe\n",
      "flow\n",
      "flo\n",
      "fl\n",
      "fl\n"
     ]
    }
   ],
   "source": [
    "\"\"\"Longest Common Prefix -- выучить!\"\"\" \n",
    "\n",
    "class Solution:\n",
    "    def longestCommonPrefix(self, strings: list[str]) -> str:\n",
    "        \"\"\"\n",
    "        time complexity = O(n * m)\n",
    "        space complexity = O(1)\n",
    "        \"\"\"\n",
    "        if not strs:\n",
    "            return \"\"\n",
    "\n",
    "        # Start with the first string as the prefix\n",
    "        prefix = strs[0]\n",
    "        # Compare the prefix with each string in the list\n",
    "        print(strs[1:])\n",
    "        for string in strs[1:]:\n",
    "            # Reduce the prefix length while the current string does not match\n",
    "            while not string.startswith(prefix):\n",
    "                prefix = prefix[:-1]\n",
    "                print(prefix)\n",
    "                if not prefix:\n",
    "                    return \"\"\n",
    "        \n",
    "        return prefix\n",
    "        \n",
    "\n",
    "strs = [\"dog\",\"racecar\",\"car\"]        \n",
    "strs = [\"flower\",\"flow\",\"flight\"]\n",
    "c = Solution()\n",
    "print(c.longestCommonPrefix(strs))"
   ]
  },
  {
   "cell_type": "markdown",
   "id": "0aa20f46",
   "metadata": {},
   "source": [
    "#  SORTING"
   ]
  },
  {
   "cell_type": "code",
   "execution_count": null,
   "id": "f583d08f",
   "metadata": {},
   "outputs": [
    {
     "name": "stdout",
     "output_type": "stream",
     "text": [
      "[1, 2, 3, 5, 5, 6, 7, 9, 11, 25, 27, 33, 45, 465]\n",
      "11\n"
     ]
    }
   ],
   "source": [
    "\"\"\"Binary Search\"\"\"\n",
    "def Binary_Search(sorted_arr: list, target:any) -> any:\n",
    "\n",
    "    low = 0\n",
    "    high = len(sorted_arr) -1 \n",
    "\n",
    "    while low <= high:\n",
    "        mid = low + (high -low) // 2\n",
    "\n",
    "        if sorted_arr[mid] == target:\n",
    "            return mid\n",
    "        elif sorted_arr[mid] < target:\n",
    "            low = mid + 1 \n",
    "        else:\n",
    "            high = mid - 1\n",
    "    return None\n",
    "\n",
    "arr = sorted([27,45,33,25,1,9,5,3,6,7,2,5,11,465])\n",
    "x = 33\n",
    "\n",
    "print(Binary_Search(arr,x))"
   ]
  },
  {
   "cell_type": "code",
   "execution_count": 506,
   "id": "b80649c1",
   "metadata": {},
   "outputs": [
    {
     "name": "stdout",
     "output_type": "stream",
     "text": [
      "['1']\n",
      "['2', '2']\n",
      "['3', '3', '3']\n",
      "['4', '4', '4', '4']\n",
      "['5', '5', '5', '5', '5']\n",
      "['6', '6', '6', '6', '6', '6']\n",
      "['7', '7', '7', '7', '7', '7', '7']\n",
      "['8', '8', '8', '8', '8', '8', '8', '8']\n",
      "['9', '9', '9', '9', '9', '9', '9', '9', '9']\n",
      "{'7777777', '22', '333', '666666', '88888888', '4444', '1', '55555', '999999999'}\n"
     ]
    }
   ],
   "source": [
    "def foo():\n",
    "    for i in range(1, 10):\n",
    "        value = [str(i)] * i\n",
    "        print(value)\n",
    "        value = \"\".join(value)\n",
    "        yield value\n",
    "p = set(i for i in foo())\n",
    "print(p)"
   ]
  },
  {
   "cell_type": "code",
   "execution_count": null,
   "id": "537c22e3",
   "metadata": {},
   "outputs": [
    {
     "name": "stdout",
     "output_type": "stream",
     "text": [
      "[0, 0, 1, 1, 2, 2]\n"
     ]
    }
   ],
   "source": [
    "\"\"\"\n",
    "Sort Colors\n",
    "\"\"\"\n",
    "class Solution:\n",
    "    def sortColors(self, nums: list[int]) -> None:\n",
    "        \"\"\"\n",
    "        Do not return anything, modify nums in-place instead.\n",
    "        - Time complexity = O(n^2)\n",
    "        - Space complexity = O(1)\n",
    "        \"\"\"\n",
    "        for i in range(len(nums)):\n",
    "            start = i; \n",
    "            for j in range(i + 1, len(nums)):\n",
    "                if nums[start] > nums[j]:\n",
    "                    start = j; \n",
    "            nums[start], nums[i] = nums[i], nums[start]\n",
    "\n",
    "nums_ = [2,0,2,1,1,0]\n",
    "# nums_ = [2,0,1]\n",
    "# nums_=[4, 2, 3, 4, 1]\n",
    "\n",
    "c = Solution()\n",
    "c.sortColors(nums_)\n",
    "\n",
    "print(nums_)"
   ]
  },
  {
   "cell_type": "code",
   "execution_count": null,
   "id": "6701ac1a",
   "metadata": {},
   "outputs": [
    {
     "name": "stdout",
     "output_type": "stream",
     "text": [
      "[1, 1, 4, 2, 1, 3] [1, 1, 1, 2, 3, 4]\n",
      "1 1\n",
      "1 1\n",
      "1 4\n",
      "2 2\n",
      "3 1\n",
      "4 3\n",
      "3\n"
     ]
    }
   ],
   "source": [
    "\"\"\"\n",
    "Height Checker\n",
    "\"\"\"\n",
    "class Solution:\n",
    "    def heightChecker(self, heights: list[int]) -> int:\n",
    "        \"\"\"\n",
    "        - Временная сложность: O(n log n)\n",
    "        - Пространственная сложность: — O(n)\n",
    "        \"\"\"\n",
    "        copy_sorted = sorted(heights)\n",
    "\n",
    "        count_impropper_idx = 0\n",
    "        propper_idx=0\n",
    "        for i in range(len(heights)):\n",
    "            if copy_sorted[propper_idx] != heights[i]:\n",
    "                count_impropper_idx +=1\n",
    "            propper_idx+=1\n",
    "\n",
    "        return count_impropper_idx\n",
    "            \n",
    "\n",
    "\n",
    "\n",
    "heights = [1,1,4,2,1,3]\n",
    "# heights = [5,1,2,3,4]\n",
    "# heights = [1,2,3,4,5]\n",
    "        \n",
    "c = Solution()\n",
    "print(c.heightChecker(heights))"
   ]
  },
  {
   "cell_type": "code",
   "execution_count": 308,
   "id": "62438fbc",
   "metadata": {},
   "outputs": [
    {
     "name": "stdout",
     "output_type": "stream",
     "text": [
      "[-1, -2, -3, -4, -5]\n",
      "-3\n"
     ]
    }
   ],
   "source": [
    "\"\"\"\n",
    "Third Maximum Number\n",
    "Follow up: Can you find an O(n) solution?\n",
    "\"\"\"\n",
    "class Solution:\n",
    "    def thirdMax(self, nums: list[int]) -> int:\n",
    "        \"\"\"\n",
    "        Time complexity: O(NlogN)\n",
    "        Space complexity: O(1)\n",
    "        \"\"\"\n",
    "\n",
    "        nums.sort(reverse = True)\n",
    "        print(nums)\n",
    "        elem_counted = 1\n",
    "        prev_elem = nums[0]\n",
    "        \n",
    "        for index in range(len(nums)):\n",
    "            if nums[index] != prev_elem:\n",
    "                elem_counted += 1\n",
    "                prev_elem = nums[index]\n",
    "            \n",
    "            if elem_counted == 3:\n",
    "                return nums[index]\n",
    "            \n",
    "        return nums[0]\n",
    "    \n",
    "    def thirdMax_v2(self, nums: list[int]) -> int:\n",
    "        \"\"\"\n",
    "        Time complexity: O(N)\n",
    "        Space complexity: O(N)\n",
    "        \"\"\"\n",
    "        import heapq    \n",
    "        q = [-n for n in nums]\n",
    "        heapq.heapify(q)\n",
    "        m = q[0]\n",
    "        s = set()\n",
    "        while q:\n",
    "            v = heapq.heappop(q)\n",
    "            s.add(v)\n",
    "            if len(s) == 3:\n",
    "                return -v\n",
    "        return -m\n",
    "\n",
    "    \n",
    "\n",
    "nums = [1,2]\n",
    "# nums = [3,2,1]\n",
    "# nums = [2,2,3,1]\n",
    "# nums=[1,1,2]\n",
    "nums = [-4,-5,-3,-2,-1]\n",
    "c = Solution()\n",
    "print(c.thirdMax(nums))\n"
   ]
  },
  {
   "cell_type": "code",
   "execution_count": 351,
   "id": "e1ad7ef1",
   "metadata": {},
   "outputs": [
    {
     "name": "stdout",
     "output_type": "stream",
     "text": [
      "[1]\n"
     ]
    }
   ],
   "source": [
    "\"\"\"\n",
    "  Find All Numbers Disappeared in an Array\n",
    "\"\"\"\n",
    "\n",
    "class Solution:\n",
    "    def findDisappearedNumbers(self, nums: list[int]) -> list[int]:\n",
    "        \"\"\"\n",
    "        Time complexity: O(N)\n",
    "        Space complexity: O(1)\n",
    "        \"\"\"\n",
    "        \n",
    "        for n in nums:\n",
    "            i = abs(n) -1\n",
    "            nums[i] = -1 * abs(nums[i])\n",
    "        res = []\n",
    "        for i, n in enumerate(nums):\n",
    "            if n > 0:\n",
    "                res += [i + 1]\n",
    "        return res\n",
    "\n",
    "\n",
    "        # \"\"\"тоже рабоачее решение\"\"\"\n",
    "        # for number in nums:\n",
    "        #     # Use the absolute value to find the index (since we might have negative values due to marking)\n",
    "        #     index = abs(number) - 1\n",
    "        #     # Mark the number at this index as visited by making it negative\n",
    "        #     # Only mark it if it is positive (to handle duplicates, ensure only marked once)\n",
    "        #     if nums[index] > 0:\n",
    "        #         nums[index] *= -1\n",
    "\n",
    "        # missing_numbers = [i + 1 for i in range(len(nums)) if nums[i] > 0]\n",
    "        # return missing_numbers\n",
    "\n",
    "\n",
    "nums = [4,3,2,7,8,2,3,1]\n",
    "\n",
    "nums = [2,2]\n",
    "c=Solution()\n",
    "print(c.findDisappearedNumbers(nums))"
   ]
  },
  {
   "cell_type": "code",
   "execution_count": null,
   "id": "fc444517",
   "metadata": {},
   "outputs": [
    {
     "name": "stdout",
     "output_type": "stream",
     "text": [
      "[4, 9, 9, 49, 121]\n"
     ]
    }
   ],
   "source": [
    "\"\"\"\n",
    "Squares of a Sorted Array\n",
    "\"\"\"\n",
    "\n",
    "class Solution:\n",
    "    def sortedSquares(self, nums: List[int]) -> List[int]:\n",
    "        \"\"\"\n",
    "        Time complexity: O(N Log N)\n",
    "        Space complexity: O(N) - Дополнительная память для сортировки:\n",
    "                                    - Функция sorted() использует дополнительную память для временного хранения, что требует O(n).\n",
    "\n",
    "                                    Таким образом, в результате общей пространственной сложности будет:\n",
    "                                    - O(1), если не считать входные данные.\n",
    "                                    - O(n), если учитывать сортировку.\n",
    "\n",
    "                                    Итак, общая пространственная сложность — O(n).\n",
    "        \"\"\"\n",
    "        # \"\"\"То же самое\"\"\"\"\n",
    "        # for i in range(len(nums)):\n",
    "        #     nums[i] = nums[i]**2\n",
    "        # return sorted(nums)\n",
    "        return sorted([nums[i]**2 for i in range(len(nums))])\n",
    "\n",
    "\n",
    "nums = [-7,-3,2,3,11]\n",
    "# nums = [-4,-1,0,3,10]\n",
    "c=Solution()\n",
    "print(c.sortedSquares(nums))        "
   ]
  }
 ],
 "metadata": {
  "kernelspec": {
   "display_name": "Python 3",
   "language": "python",
   "name": "python3"
  },
  "language_info": {
   "codemirror_mode": {
    "name": "ipython",
    "version": 3
   },
   "file_extension": ".py",
   "mimetype": "text/x-python",
   "name": "python",
   "nbconvert_exporter": "python",
   "pygments_lexer": "ipython3",
   "version": "3.9.6"
  }
 },
 "nbformat": 4,
 "nbformat_minor": 5
}
