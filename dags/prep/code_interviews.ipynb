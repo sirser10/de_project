{
 "cells": [
  {
   "cell_type": "code",
   "execution_count": null,
   "id": "fadd165b",
   "metadata": {},
   "outputs": [
    {
     "name": "stdout",
     "output_type": "stream",
     "text": [
      "range(0, 7)\n",
      "range(1, 7)\n",
      "range(2, 7)\n",
      "[1, 6]\n"
     ]
    }
   ],
   "source": [
    "##TWO SUM\n",
    "nums = [1,2,3,4,5,7,8]\n",
    "target = 10\n",
    "\n",
    "\n",
    "class Solution:\n",
    "    def twoSum(self, nums, target):\n",
    "        for i in range(len(nums)):\n",
    "            for j in range(i + 1, len(nums)):\n",
    "                if nums[j] == target - nums[i]:\n",
    "                    return [i, j]\n",
    "        return []\n",
    "\n",
    "sol = Solution()\n",
    "\n",
    "res = sol.twoSum(nums, target)\n",
    "print(res)"
   ]
  },
  {
   "cell_type": "code",
   "execution_count": null,
   "id": "14a56ebe",
   "metadata": {},
   "outputs": [
    {
     "ename": "IndexError",
     "evalue": "list index out of range",
     "output_type": "error",
     "traceback": [
      "\u001b[0;31m---------------------------------------------------------------------------\u001b[0m",
      "\u001b[0;31mIndexError\u001b[0m                                Traceback (most recent call last)",
      "Cell \u001b[0;32mIn[4], line 48\u001b[0m\n\u001b[1;32m     45\u001b[0m \u001b[38;5;28;01mfor\u001b[39;00m r \u001b[38;5;129;01min\u001b[39;00m \u001b[38;5;28mrange\u001b[39m(mid\u001b[38;5;241m+\u001b[39m\u001b[38;5;241m1\u001b[39m, end\u001b[38;5;241m+\u001b[39m\u001b[38;5;241m1\u001b[39m):\n\u001b[1;32m     46\u001b[0m     right\u001b[38;5;241m.\u001b[39mappend(list_of_ints[r])\n\u001b[0;32m---> 48\u001b[0m \u001b[38;5;28;01mif\u001b[39;00m \u001b[38;5;129;01mnot\u001b[39;00m \u001b[43mleft\u001b[49m\u001b[43m[\u001b[49m\u001b[38;5;241;43m0\u001b[39;49m\u001b[43m]\u001b[49m\u001b[38;5;241m.\u001b[39misdigit():\n\u001b[1;32m     49\u001b[0m     \u001b[38;5;28mprint\u001b[39m(\u001b[38;5;28;01mFalse\u001b[39;00m)\n\u001b[1;32m     50\u001b[0m \u001b[38;5;28;01melse\u001b[39;00m:\n",
      "\u001b[0;31mIndexError\u001b[0m: list index out of range"
     ]
    }
   ],
   "source": [
    "#Palindrome\n",
    "class Solution(object):\n",
    "    def isPalindrome(self, x):\n",
    "        \"\"\"\n",
    "        :type x: int\n",
    "        :rtype: bool\n",
    "        \"\"\"\n",
    "        list_of_ints = list(str(x))\n",
    "\n",
    "        start = 0\n",
    "        end = len(list_of_ints)-1\n",
    "        mid = int(end / 2)\n",
    "\n",
    "        left, right = [], []\n",
    "        for l in range(start,mid):\n",
    "            left.append(list_of_ints[l])\n",
    "        for r in range(mid+1, end+1):\n",
    "            right.append(list_of_ints[r])\n",
    "        \n",
    "        if not left[0].isdigit():\n",
    "            return False\n",
    "        else:\n",
    "            left, right = [int(x) for x in left], sorted([int(x) for x in right])\n",
    "            if left == right:\n",
    "                return True\n",
    "            else:\n",
    "                return False\n",
    "\n",
    "\n",
    "        \n",
    "f = 121\n",
    "d = 243\n",
    "c = 344565443        \n",
    "d = -121\n",
    "z= 10\n",
    "\n",
    "list_of_ints = list(str(z))\n",
    "start = 0\n",
    "end = len(list_of_ints)-1\n",
    "mid = int(end / 2)\n",
    "\n",
    "left, right = [], []\n",
    "for l in range(start,mid):\n",
    "    left.append(list_of_ints[l])\n",
    "for r in range(mid+1, end+1):\n",
    "    right.append(list_of_ints[r])\n",
    "\n",
    "# if not left[0].isdigit():\n",
    "#     print(False)\n",
    "# else:\n",
    "#     left, right = [int(x) for x in left], sorted([int(x) for x in right])\n",
    "#     if left == right:\n",
    "#         print(True)\n",
    "#     else:\n",
    "#         print(False)\n",
    "\n",
    "\n",
    "# sol = Solution()\n",
    "# print(sol.isPalindrome(d))"
   ]
  }
 ],
 "metadata": {
  "kernelspec": {
   "display_name": "Python 3",
   "language": "python",
   "name": "python3"
  },
  "language_info": {
   "codemirror_mode": {
    "name": "ipython",
    "version": 3
   },
   "file_extension": ".py",
   "mimetype": "text/x-python",
   "name": "python",
   "nbconvert_exporter": "python",
   "pygments_lexer": "ipython3",
   "version": "3.9.6"
  }
 },
 "nbformat": 4,
 "nbformat_minor": 5
}
