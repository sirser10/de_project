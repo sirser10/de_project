{
 "cells": [
  {
   "cell_type": "code",
   "execution_count": null,
   "metadata": {
    "application/vnd.databricks.v1+cell": {
     "cellMetadata": {
      "byteLimit": 2048000,
      "rowLimit": 10000
     },
     "inputWidgets": {},
     "nuid": "f87d4a13-71d2-4e69-b314-02ee2f0830b1",
     "showTitle": false,
     "title": ""
    }
   },
   "outputs": [],
   "source": [
    "from pyspark.sql.window import * \n",
    "from pyspark.sql.functions import *\n",
    "import time\n",
    "from datetime import datetime\n",
    "import sys\n",
    "import shutil\n",
    "import os\n",
    "import builtins"
   ]
  },
  {
   "cell_type": "markdown",
   "metadata": {
    "application/vnd.databricks.v1+cell": {
     "cellMetadata": {
      "byteLimit": 2048000,
      "rowLimit": 10000
     },
     "inputWidgets": {},
     "nuid": "2c54ee95-48f8-4c74-b486-9d2e5a0b67e5",
     "showTitle": false,
     "title": ""
    }
   },
   "source": [
    "### Sources"
   ]
  },
  {
   "cell_type": "code",
   "execution_count": null,
   "metadata": {
    "application/vnd.databricks.v1+cell": {
     "cellMetadata": {
      "byteLimit": 2048000,
      "rowLimit": 10000
     },
     "inputWidgets": {},
     "nuid": "79cc09d5-c4ea-4ec2-b5b0-50bed44e5286",
     "showTitle": false,
     "title": ""
    }
   },
   "outputs": [],
   "source": [
    "#sources\n",
    "matrix_ozon_path            = '/mnt/output/write/generic/sales/dCom/offtakes/ozon/matrix/'\n",
    "ecom_other_clients_matrix   = '/mnt/output/write/distilled/Ecom/other_client_matrix'\n",
    "matrix_samokat_path         = '/mnt/output/write/distilled/sales/dcom/offtakes/samokat_matrix'\n",
    "\n",
    "#dimensional tables\n",
    "dim_outlet_path             = '/mnt/output/write/dataModel/Ecom/dimClientMapping'\n",
    "dim_products_path           = '/mnt/output/write/dataModel/Ecom/dimProduct'\n",
    "dim_calendar_path           = '/mnt/output/read/dataModel/Atlas/dim_calendar'\n",
    "\n",
    "#distilled_output_path\n",
    "output_path                 = '/mnt/output/write/dataModel/Ecom/dim_matrix'\n",
    "\n",
    "#hive\n",
    "table_name                  = 'ecom_dim_matrix'\n",
    "russiaMwDataRoomHiveSchema  = dbutils.secrets.get('russiaMwDataRoomKeyVaultSecret', 'russiaMwDataroomHiveSchema')\n",
    "hiveTargetTableName         = f'{russiaMwDataRoomHiveSchema}.{table_name}'"
   ]
  },
  {
   "cell_type": "code",
   "execution_count": null,
   "metadata": {
    "application/vnd.databricks.v1+cell": {
     "cellMetadata": {
      "byteLimit": 2048000,
      "rowLimit": 10000
     },
     "inputWidgets": {},
     "nuid": "9b4df688-199c-4825-b6e1-9e69e566cb9d",
     "showTitle": false,
     "title": ""
    }
   },
   "outputs": [],
   "source": [
    "df_dim_outlet              = (spark.read.format('parquet').load(dim_outlet_path)\n",
    "                              .select(\n",
    "                                        'ParsingClientName'\n",
    "                                      , 'OSADisplayName'\n",
    "                                      , 'ParsingClientName&ParsingAddress'\n",
    "                                      , 'Customer_ID'\n",
    "                                      , 'Store_ID'\n",
    "                                      ))\n",
    "df_dim_product             = (spark.read.format('parquet').load(dim_products_path)\n",
    "                              .select(\n",
    "                                        'CustomerId'\n",
    "                                      , 'CustomerProductId'\n",
    "                                      , 'CustomerProductName'\n",
    "                                      , 'EAN'\n",
    "                                      ))\n",
    "df_ozon_matrix_generic     = (spark.read.format('parquet').load(matrix_ozon_path)\n",
    "                              .select(\n",
    "                                        'IDSKU'\n",
    "                                      , 'StoreType'\n",
    "                                      , 'StoreID'\n",
    "                                      , 'WeekYear'\n",
    "                                      , 'Customer_ID'\n",
    "                                      ))\n",
    "df_matrix_of_all_customers = (spark.read.format('parquet').load(ecom_other_clients_matrix)\n",
    "                              .select(\n",
    "                                        'EAN'\n",
    "                                      , 'ParsingClientName'\n",
    "                                      , 'Customer_ID'\n",
    "                                      , 'StoreType'\n",
    "                                      , 'StartDate'\n",
    "                                      , 'EndDate'\n",
    "                              ).filter(col(\"Customer_ID\") != 21))\n",
    "df_samokat_matrix = (spark.read.format('parquet').load(matrix_samokat_path)\n",
    "                              .select(\n",
    "                                        'EAN'\n",
    "                                      , 'ParsingClientName'\n",
    "                                      , 'Customer_ID'\n",
    "                                      , 'StoreType'\n",
    "                                      , 'StartDate'\n",
    "                                      , 'EndDate'\n",
    "                              ))                              \n",
    "df_calendar                = spark.read.format('parquet').load(dim_calendar_path).select('GCALENDAR')"
   ]
  },
  {
   "cell_type": "markdown",
   "metadata": {
    "application/vnd.databricks.v1+cell": {
     "cellMetadata": {
      "byteLimit": 2048000,
      "rowLimit": 10000
     },
     "inputWidgets": {},
     "nuid": "2d873aef-7808-42e9-9c37-5b2e3460d29f",
     "showTitle": false,
     "title": ""
    }
   },
   "source": [
    "### Big Ozon. Customer_ID = 31"
   ]
  },
  {
   "cell_type": "code",
   "execution_count": null,
   "metadata": {
    "application/vnd.databricks.v1+cell": {
     "cellMetadata": {
      "byteLimit": 2048000,
      "rowLimit": 10000
     },
     "inputWidgets": {},
     "nuid": "ceb2a53f-dc4d-47d0-b335-333dd2cf40ed",
     "showTitle": false,
     "title": ""
    }
   },
   "outputs": [],
   "source": [
    "ozon_w_31 = Window.partitionBy('Store_ID').orderBy('OSADisplayName')\n",
    "\n",
    "df_dim_outlet_distinct        = (df_dim_outlet\n",
    "                                 .filter(col('Store_ID') != 'not available')\n",
    "                                 .withColumn('row_num', row_number().over(ozon_w_31))\n",
    "                                 .filter(col('row_num') == 1)\n",
    "                                 .drop('row_num')\n",
    "                                 )\n",
    "df_union_ozon_matrix          = df_ozon_matrix_generic\n",
    "\n",
    "df_join_ozon_matrix_store_id = (\n",
    "  df_union_ozon_matrix\n",
    "  .join(\n",
    "    df_dim_outlet_distinct,\n",
    "    df_dim_outlet_distinct['Store_ID'] == df_union_ozon_matrix['StoreID'], \n",
    "    how= 'left'\n",
    "    )\n",
    "    .select(\n",
    "              df_union_ozon_matrix['*'                  ]\n",
    "            , df_dim_outlet_distinct['Customer_ID'      ].alias('Customer_ID_do')\n",
    "            , df_dim_outlet_distinct['ParsingClientName']\n",
    "            )\n",
    "  )\n",
    "  \n",
    "df_ozon_merged_store_id = df_join_ozon_matrix_store_id.filter(col('Customer_ID_do').isNotNull()).drop('Customer_ID').withColumnRenamed('Customer_ID_do', 'Customer_ID')"
   ]
  },
  {
   "cell_type": "markdown",
   "metadata": {
    "application/vnd.databricks.v1+cell": {
     "cellMetadata": {
      "byteLimit": 2048000,
      "rowLimit": 10000
     },
     "inputWidgets": {},
     "nuid": "fb4883e5-6b13-406c-b93e-81bfed06e692",
     "showTitle": false,
     "title": ""
    }
   },
   "source": [
    "### Ozon Fresh. Customer_ID = 10 "
   ]
  },
  {
   "cell_type": "code",
   "execution_count": null,
   "metadata": {
    "application/vnd.databricks.v1+cell": {
     "cellMetadata": {
      "byteLimit": 2048000,
      "rowLimit": 10000
     },
     "inputWidgets": {},
     "nuid": "6a8c7bf6-9f09-4391-8e84-b544e1a62731",
     "showTitle": false,
     "title": ""
    }
   },
   "outputs": [],
   "source": [
    "df_ozon_not_merged_store_id = df_join_ozon_matrix_store_id.filter(col('Customer_ID_do').isNull()).drop('Customer_ID_do','ParsingClientName')\n",
    "\n",
    "ozon_w_10 = Window.partitionBy('Customer_ID').orderBy('ParsingClientName&ParsingAddress')\n",
    "\n",
    "df_ozon_express_check = df_dim_outlet.filter((col('Customer_ID') == 10) & (col('ParsingClientName') == 'ozon.ru_express'))\n",
    "if df_ozon_express_check.count() > 1:\n",
    "    raise ValueError(\"Duplicate records found for ParsingClientName: ozon.ru_express\")\n",
    "\n",
    "df_dim_outlet_for_ozon_fresh  = (\n",
    "    df_dim_outlet\n",
    "  .filter((col('Customer_ID') == 10) & (col('ParsingClientName') == 'ozon.ru_express'))\n",
    "  .withColumn('row_num', row_number().over(ozon_w_10))\n",
    "  .filter(col('row_num') == 1)\n",
    "  .drop('row_num')\n",
    "  .withColumnRenamed('Customer_ID', 'Customer_ID_dot'            )\n",
    "  .withColumnRenamed('ParsingClientName', 'ParsingClientName_dot')\n",
    "  )\n",
    "\n",
    "df_join_ozon_matrix_cust_id_fresh = (\n",
    "  df_ozon_not_merged_store_id\n",
    "  .join(\n",
    "    df_dim_outlet_for_ozon_fresh,\n",
    "    df_dim_outlet_for_ozon_fresh['Customer_ID_dot'] == df_ozon_not_merged_store_id['Customer_ID'], \n",
    "    how= 'left'\n",
    "      )\n",
    "    .select(\n",
    "              df_ozon_not_merged_store_id['*'                     ]\n",
    "            , df_dim_outlet_for_ozon_fresh['Customer_ID_dot'      ]\n",
    "            , df_dim_outlet_for_ozon_fresh['ParsingClientName_dot']\n",
    "            )\n",
    "  .drop('Customer_ID')\n",
    "  .withColumnRenamed('Customer_ID_dot', 'Customer_ID'            )\n",
    "  .withColumnRenamed('ParsingClientName_dot', 'ParsingClientName')\n",
    "\n",
    ")\n",
    "\n",
    "df_ozon_fresh_merged = df_join_ozon_matrix_cust_id_fresh.filter(col('Customer_ID').isNotNull())"
   ]
  },
  {
   "cell_type": "markdown",
   "metadata": {
    "application/vnd.databricks.v1+cell": {
     "cellMetadata": {
      "byteLimit": 2048000,
      "rowLimit": 10000
     },
     "inputWidgets": {},
     "nuid": "c578b2b5-dd27-496b-8fae-150de3924f9d",
     "showTitle": false,
     "title": ""
    }
   },
   "source": [
    "### Ozon Matrix"
   ]
  },
  {
   "cell_type": "code",
   "execution_count": null,
   "metadata": {
    "application/vnd.databricks.v1+cell": {
     "cellMetadata": {
      "byteLimit": 2048000,
      "rowLimit": 10000
     },
     "inputWidgets": {},
     "nuid": "f66367af-53f2-4c41-a749-853a80223987",
     "showTitle": false,
     "title": ""
    }
   },
   "outputs": [],
   "source": [
    "df_join_ozon_matrix_dim_store = df_ozon_merged_store_id.unionByName(df_ozon_fresh_merged)"
   ]
  },
  {
   "cell_type": "code",
   "execution_count": null,
   "metadata": {
    "application/vnd.databricks.v1+cell": {
     "cellMetadata": {
      "byteLimit": 2048000,
      "rowLimit": 10000
     },
     "inputWidgets": {},
     "nuid": "ac82c304-df09-427f-833d-3c621876eaa9",
     "showTitle": false,
     "title": ""
    }
   },
   "outputs": [],
   "source": [
    "calendar_for_ozon_matrix = (\n",
    "  df_calendar\n",
    "  .select('GCALENDAR')\n",
    "  .withColumn(\"year\",              year(\"GCALENDAR\")                                 )\n",
    "  .withColumn(\"week_of_year\",      weekofyear(\"GCALENDAR\")                           )\n",
    "  .withColumn('WeekYear',          concat_ws('_', 'week_of_year', 'year')            )\n",
    "  .withColumn(\"day_of_week\",       expr(\"date_format(GCALENDAR, 'u')\")               )\n",
    "  .withColumn(\"day_of_week_int\",   col(\"day_of_week\").cast(\"int\")                    )\n",
    "  .withColumn(\"first_day_of_week\", date_sub(\"GCALENDAR\", expr(\"day_of_week_int - 1\")))\n",
    "  .withColumn(\"last_day_of_week\",  date_add(\"first_day_of_week\", 6)                  )\n",
    "  .drop('day_of_week', 'day_of_week_int')\n",
    "  .select(\n",
    "        'WeekYear'\n",
    "      , 'first_day_of_week'\n",
    "        )\n",
    "  .distinct() #сделал distinct, так как поля сами по себе не уникальные, но именно они нужны для корректного джойна с главной таблицей\n",
    ")\n",
    "\n",
    "windowSpec = Window.partitionBy('WeekYear').orderBy(col('first_day_of_week').asc())\n",
    "uniq_calendar_for_ozon_matrix = (\n",
    "  calendar_for_ozon_matrix\n",
    "  .withColumn('row_num', row_number().over(windowSpec))\n",
    "  .filter(col('row_num') == 1)\n",
    "  .drop('row_num')\n",
    "  )\n",
    "\n",
    "df_join_ozon_matrix_calendar  = (\n",
    "  df_join_ozon_matrix_dim_store\n",
    "  .join(uniq_calendar_for_ozon_matrix, ['WeekYear'],how= 'left')\n",
    "  .select(\n",
    "            df_join_ozon_matrix_dim_store['*']\n",
    "          , uniq_calendar_for_ozon_matrix['first_day_of_week'].alias('StartDate')\n",
    "          )\n",
    "  .drop('WeekYear')\n",
    "  )\n",
    "\n",
    "window_for_max_start_date = Window.orderBy()\n",
    "\n",
    "df_end_date_creation = (\n",
    "  df_join_ozon_matrix_calendar\n",
    "  .withColumn('max_date', max('StartDate').over(window_for_max_start_date))\n",
    "  .withColumn('Endless_date', when(col('max_date').isNotNull(), '9999-12-31'))\n",
    "  .withColumn('properformat', to_date(col('Endless_date'),'yyyy-MM-dd'))\n",
    "  .drop('Endless_date')\n",
    "  .withColumn('EndDate', \n",
    "                        when(col('StartDate') == col('max_date'), col('properformat'))\n",
    "                        .otherwise( col('max_date')-1)\n",
    "              )\n",
    "  .drop('max_date','properformat')\n",
    ")"
   ]
  },
  {
   "cell_type": "code",
   "execution_count": null,
   "metadata": {
    "application/vnd.databricks.v1+cell": {
     "cellMetadata": {
      "byteLimit": 2048000,
      "rowLimit": 10000
     },
     "inputWidgets": {},
     "nuid": "e79eef0f-cccb-4252-8ac3-71b0ef6b736b",
     "showTitle": false,
     "title": ""
    }
   },
   "outputs": [],
   "source": [
    "customer_id_ozon = 31\n",
    "df_ozon_dim_product = df_dim_product.filter(col('CustomerID') == customer_id_ozon)\n",
    "\n",
    "df_join_ozon_dim_product = (\n",
    "  df_end_date_creation\n",
    "  .join(df_ozon_dim_product, df_ozon_dim_product['CustomerProductId'] == df_end_date_creation['IDSKU'], how= 'left')\n",
    "  .select(\n",
    "            df_end_date_creation['*']\n",
    "          , df_ozon_dim_product['EAN']\n",
    "          )\n",
    "  .drop('IDSKU')\n",
    ")\n",
    "\n",
    "df_ozon_matrix = (\n",
    "  df_join_ozon_dim_product\n",
    "  .filter((col('Customer_ID').isNotNull()) & (col('EAN').isNotNull()))\n",
    "  .select(\n",
    "            'EAN'\n",
    "          , 'Customer_ID'\n",
    "          , 'ParsingClientName'\n",
    "          , 'StoreType'\n",
    "          , 'StartDate'\n",
    "          , 'EndDate'\n",
    "  )\n",
    "  \n",
    "  )"
   ]
  },
  {
   "cell_type": "markdown",
   "metadata": {
    "application/vnd.databricks.v1+cell": {
     "cellMetadata": {
      "byteLimit": 2048000,
      "rowLimit": 10000
     },
     "inputWidgets": {},
     "nuid": "d101fb0f-d89d-46b1-80a8-230ed5a8783f",
     "showTitle": false,
     "title": ""
    }
   },
   "source": [
    "### Other customer matrix & union"
   ]
  },
  {
   "cell_type": "markdown",
   "metadata": {
    "application/vnd.databricks.v1+cell": {
     "cellMetadata": {
      "byteLimit": 2048000,
      "rowLimit": 10000
     },
     "inputWidgets": {},
     "nuid": "9600cd0b-7edc-4c5f-9720-89e068ee46d3",
     "showTitle": false,
     "title": ""
    }
   },
   "source": [
    "### Union, deduplication & datatypes casting"
   ]
  },
  {
   "cell_type": "code",
   "execution_count": null,
   "metadata": {
    "application/vnd.databricks.v1+cell": {
     "cellMetadata": {
      "byteLimit": 2048000,
      "rowLimit": 10000
     },
     "inputWidgets": {},
     "nuid": "e5a0d76c-299c-4d76-9dfa-a91fa9c519a5",
     "showTitle": false,
     "title": ""
    }
   },
   "outputs": [],
   "source": [
    "df_prefinal_matrix = df_ozon_matrix.unionByName(df_matrix_of_all_customers).unionByName(df_samokat_matrix)"
   ]
  },
  {
   "cell_type": "code",
   "execution_count": null,
   "metadata": {
    "application/vnd.databricks.v1+cell": {
     "cellMetadata": {
      "byteLimit": 2048000,
      "rowLimit": 10000
     },
     "inputWidgets": {},
     "nuid": "92d66ed6-0121-456e-94e7-0b72c319c43e",
     "showTitle": false,
     "title": ""
    }
   },
   "outputs": [],
   "source": [
    "windowSpec_for_deduplication = Window.partitionBy('composite_key').orderBy(col(\"StartDate\").cast('date'), col('EndDate').cast('date').desc())\n",
    "\n",
    "key_for_deduplication = (\n",
    "  df_prefinal_matrix\n",
    "  .withColumn('composite_key',\n",
    "               concat_ws('&',\n",
    "                            col('EAN')\n",
    "                          , col('ParsingClientName')\n",
    "                          , col('StoreType')\n",
    "                          )\n",
    "               )\n",
    "  .withColumn('row_num', row_number().over(windowSpec_for_deduplication))\n",
    "  .filter(col('row_num') == 1)\n",
    "  .drop('row_num', 'composite_key')\n",
    "  .select(\n",
    "          col('EAN').cast('long')\n",
    "        , col('Customer_ID').cast('int')\n",
    "        , 'ParsingClientName'\n",
    "        , 'StoreType'\n",
    "        , col('StartDate').cast('date')\n",
    "        , col('EndDate').cast('date')\n",
    "\n",
    "  )\n",
    "  )"
   ]
  },
  {
   "cell_type": "markdown",
   "metadata": {
    "application/vnd.databricks.v1+cell": {
     "cellMetadata": {
      "byteLimit": 2048000,
      "rowLimit": 10000
     },
     "inputWidgets": {},
     "nuid": "8b4c1a55-ab9f-49dd-abe1-8a78d5a6660a",
     "showTitle": false,
     "title": ""
    }
   },
   "source": [
    "### Write to DataModel"
   ]
  },
  {
   "cell_type": "code",
   "execution_count": null,
   "metadata": {
    "application/vnd.databricks.v1+cell": {
     "cellMetadata": {
      "byteLimit": 2048000,
      "rowLimit": 10000
     },
     "inputWidgets": {},
     "nuid": "ed700107-ca67-49c7-84b2-fecac51d8db6",
     "showTitle": false,
     "title": ""
    }
   },
   "outputs": [],
   "source": [
    "df_final_matrix = (\n",
    "  key_for_deduplication\n",
    "  .select(\n",
    "          'EAN'\n",
    "        , 'Customer_ID'\n",
    "        , 'ParsingClientName'\n",
    "        , 'StoreType'\n",
    "        , 'StartDate'\n",
    "        , 'EndDate'\n",
    "  )\n",
    ")"
   ]
  },
  {
   "cell_type": "code",
   "execution_count": null,
   "metadata": {
    "application/vnd.databricks.v1+cell": {
     "cellMetadata": {
      "byteLimit": 2048000,
      "rowLimit": 10000
     },
     "inputWidgets": {},
     "nuid": "4694df76-7d9f-4702-9e7c-eaf5fd8c6298",
     "showTitle": false,
     "title": ""
    }
   },
   "outputs": [],
   "source": [
    "df_final_matrix.write.mode('overwrite').format('parquet').option('path', output_path).saveAsTable(hiveTargetTableName)"
   ]
  },
  {
   "cell_type": "code",
   "execution_count": null,
   "metadata": {
    "application/vnd.databricks.v1+cell": {
     "cellMetadata": {
      "byteLimit": 2048000,
      "implicitDf": true,
      "rowLimit": 10000
     },
     "inputWidgets": {},
     "nuid": "d1bbe2d7-03ab-4d0b-9f0e-f4018db1a4fa",
     "showTitle": false,
     "title": ""
    }
   },
   "outputs": [
    {
     "data": {
      "text/html": [
       "<style scoped>\n",
       "  .table-result-container {\n",
       "    max-height: 300px;\n",
       "    overflow: auto;\n",
       "  }\n",
       "  table, th, td {\n",
       "    border: 1px solid black;\n",
       "    border-collapse: collapse;\n",
       "  }\n",
       "  th, td {\n",
       "    padding: 5px;\n",
       "  }\n",
       "  th {\n",
       "    text-align: left;\n",
       "  }\n",
       "</style><div class='table-result-container'><table class='table-result'><thead style='background-color: white'><tr><th>ParsingClientName</th><th>count(1)</th></tr></thead><tbody><tr><td>yandex_market_app</td><td>98</td></tr><tr><td>ozon.ru_krasnodar</td><td>99</td></tr><tr><td>ozon.ru</td><td>99</td></tr><tr><td>ozon.ru_ekb</td><td>99</td></tr><tr><td>ozon.ru_spb</td><td>99</td></tr><tr><td>sbermarket.ru_auchan</td><td>108</td></tr><tr><td>sbermarket.ru_metro</td><td>149</td></tr><tr><td>ozon.ru_nsk</td><td>99</td></tr><tr><td>ozon.ru_express</td><td>489</td></tr><tr><td>ozon.ru_kaliningrad</td><td>2</td></tr><tr><td>samokat_app</td><td>14981</td></tr><tr><td>sbermarket.ru_lenta</td><td>134</td></tr><tr><td>ozon.ru_khabarovsk</td><td>2</td></tr><tr><td>ozon.ru_kzn</td><td>99</td></tr></tbody></table></div>"
      ]
     },
     "metadata": {
      "application/vnd.databricks.v1+output": {
       "addedWidgets": {},
       "aggData": [],
       "aggError": "",
       "aggOverflow": false,
       "aggSchema": [],
       "aggSeriesLimitReached": false,
       "aggType": "",
       "arguments": {},
       "columnCustomDisplayInfos": {},
       "data": [
        [
         "yandex_market_app",
         98
        ],
        [
         "ozon.ru_krasnodar",
         99
        ],
        [
         "ozon.ru",
         99
        ],
        [
         "ozon.ru_ekb",
         99
        ],
        [
         "ozon.ru_spb",
         99
        ],
        [
         "sbermarket.ru_auchan",
         108
        ],
        [
         "sbermarket.ru_metro",
         149
        ],
        [
         "ozon.ru_nsk",
         99
        ],
        [
         "ozon.ru_express",
         489
        ],
        [
         "ozon.ru_kaliningrad",
         2
        ],
        [
         "samokat_app",
         14981
        ],
        [
         "sbermarket.ru_lenta",
         134
        ],
        [
         "ozon.ru_khabarovsk",
         2
        ],
        [
         "ozon.ru_kzn",
         99
        ]
       ],
       "datasetInfos": [],
       "dbfsResultPath": null,
       "isJsonSchema": true,
       "metadata": {
        "dataframeName": "_sqldf",
        "executionCount": 13
       },
       "overflow": false,
       "plotOptions": {
        "customPlotOptions": {},
        "displayType": "table",
        "pivotAggregation": null,
        "pivotColumns": null,
        "xColumns": null,
        "yColumns": null
       },
       "removedWidgets": [],
       "schema": [
        {
         "metadata": "{}",
         "name": "ParsingClientName",
         "type": "\"string\""
        },
        {
         "metadata": "{\"__autoGeneratedAlias\":\"true\"}",
         "name": "count(1)",
         "type": "\"long\""
        }
       ],
       "type": "table"
      }
     },
     "output_type": "display_data"
    }
   ],
   "source": [
    "%sql\n",
    "select ParsingClientName,count(*) from \n",
    "russia_mw_dataroom.ecom_dim_matrix\n",
    "group by ParsingClientName"
   ]
  }
 ],
 "metadata": {
  "application/vnd.databricks.v1+notebook": {
   "dashboards": [],
   "environmentMetadata": null,
   "language": "python",
   "notebookMetadata": {
    "mostRecentlyExecutedCommandWithImplicitDF": {
     "commandId": 662301193727948,
     "dataframes": [
      "_sqldf"
     ]
    },
    "pythonIndentUnit": 2
   },
   "notebookName": "ecom_sku_matrix_datamodel",
   "widgets": {}
  },
  "language_info": {
   "name": "python"
  }
 },
 "nbformat": 4,
 "nbformat_minor": 0
}
